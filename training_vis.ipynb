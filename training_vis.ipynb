{
 "cells": [
  {
   "cell_type": "code",
   "execution_count": 11,
   "metadata": {},
   "outputs": [],
   "source": [
    "import pandas as pd\n",
    "import data_ops\n",
    "\n",
    "loss_dir = 'losses'"
   ]
  },
  {
   "cell_type": "code",
   "execution_count": null,
   "metadata": {},
   "outputs": [],
   "source": [
    "loss_files = data_ops.gather_files(loss_dir)\n",
    "# Read in all the loss files\n",
    "loss_dfs = [pd.read_csv(f, header=None) for f in loss_files]\n",
    "loss_df = pd.concat(loss_dfs, ignore_index=True)\n",
    "loss_df.columns = ['batch','loss']\n",
    "loss_df.set_index('batch', inplace=True)\n",
    "# sort on index\n",
    "loss_df.sort_index(inplace=True)\n",
    "loss_df=loss_df*-1\n",
    "# Rolling average\n",
    "loss_df['rolling'] = loss_df['loss'].rolling(window=100).mean()\n",
    "loss_df.plot()"
   ]
  }
 ],
 "metadata": {
  "kernelspec": {
   "display_name": "Python 3",
   "language": "python",
   "name": "python3"
  },
  "language_info": {
   "codemirror_mode": {
    "name": "ipython",
    "version": 3
   },
   "file_extension": ".py",
   "mimetype": "text/x-python",
   "name": "python",
   "nbconvert_exporter": "python",
   "pygments_lexer": "ipython3",
   "version": "3.11.6"
  }
 },
 "nbformat": 4,
 "nbformat_minor": 2
}
